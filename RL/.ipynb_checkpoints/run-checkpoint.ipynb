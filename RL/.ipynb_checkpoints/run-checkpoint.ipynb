{
 "cells": [
  {
   "cell_type": "code",
   "execution_count": 13,
   "metadata": {},
   "outputs": [],
   "source": [
    "import sys\n",
    " \n",
    "sys.path.append('../')\n",
    "\n",
    "from agents.Q_learning_off_policy import Q_learning_off_policy\n",
    "from agents.trainer import Trainer\n",
    "from environments.cart import MyEnv\n",
    "from utilities.model_operation import save_model\n",
    "from utilities.config import Config\n"
   ]
  },
  {
   "cell_type": "code",
   "execution_count": 14,
   "metadata": {},
   "outputs": [],
   "source": [
    "\n",
    "config = Config()\n",
    "config.seed = 1\n",
    "config.environment = MyEnv()\n",
    "config.num_episodes_to_run = 10\n",
    "config.num_taining_step_every_trajectory_step = 3\n",
    "config.visualise_results = True\n",
    "config.file_to_save_data_results = './save/model/checkpoint.pth.tar'\n",
    "config.file_to_save_results_graph = None\n",
    "config.use_GPU = False\n",
    "config.save_model = False\n",
    "\n",
    "\n",
    "config.hyperparameters = {\n",
    "            \"num_input\": 2,\n",
    "            \"num_output\": 1,\n",
    "            \"num_u\": 5,\n",
    "            \"collect\": False,\n",
    "            \"learning_rate\": 1e-3,\n",
    "            \"linear_hidden_units\": [30, 15],\n",
    "            \"gamma\": 1.0,  # discount_rate\n",
    "            \"target_update\": 10,\n",
    "            \"batch_size\": 20,\n",
    "            \"buffer_size\": 10000,\n",
    "}"
   ]
  },
  {
   "cell_type": "code",
   "execution_count": 15,
   "metadata": {},
   "outputs": [],
   "source": [
    "if __name__ == \"__main__\":\n",
    "    AGENT = Q_learning_off_policy\n",
    "    trainer = Trainer(config, AGENT)\n",
    "    trainer.run()\n",
    "\n",
    "    if config.file_to_save_data_results:\n",
    "        save_model(trainer,config.file_to_save_data_results)\n",
    "        "
   ]
  }
 ],
 "metadata": {
  "kernelspec": {
   "display_name": "Python 3",
   "language": "python",
   "name": "python3"
  },
  "language_info": {
   "codemirror_mode": {
    "name": "ipython",
    "version": 3
   },
   "file_extension": ".py",
   "mimetype": "text/x-python",
   "name": "python",
   "nbconvert_exporter": "python",
   "pygments_lexer": "ipython3",
   "version": "3.7.2"
  }
 },
 "nbformat": 4,
 "nbformat_minor": 2
}
