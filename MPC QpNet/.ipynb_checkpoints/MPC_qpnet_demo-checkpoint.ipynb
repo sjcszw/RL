{
 "cells": [
  {
   "cell_type": "code",
   "execution_count": 1,
   "metadata": {},
   "outputs": [],
   "source": [
    "import matplotlib as mpl\n",
    "import matplotlib.pyplot as plt\n",
    "import numpy as np\n",
    "from scipy import io\n",
    "import torch\n",
    "import torch.nn as nn\n",
    "\n",
    "from instructor import Instructor\n",
    "from qpnet import QpNet\n",
    "from qpth.qp import QPFunction\n",
    "\n",
    "\n",
    "plt.style.use('bmh')"
   ]
  },
  {
   "cell_type": "markdown",
   "metadata": {},
   "source": [
    "# Load the dataset"
   ]
  },
  {
   "cell_type": "code",
   "execution_count": 2,
   "metadata": {},
   "outputs": [
    {
     "name": "stdout",
     "output_type": "stream",
     "text": [
      "shape of x0: (5831, 2)  |shape of u: (5831, 5)\n"
     ]
    }
   ],
   "source": [
    "# loads data from .mat file\n",
    "# contains the initial state x0 and finite u series\n",
    "mat = io.loadmat('./1012.mat')  \n",
    "x0 = np.transpose(mat['x'])\n",
    "u = np.transpose(mat['u'])\n",
    "print(\"shape of x0:\",x0.shape,\" |shape of u:\",u.shape)"
   ]
  },
  {
   "cell_type": "markdown",
   "metadata": {},
   "source": [
    "### Input: x(0), output: u(0) "
   ]
  },
  {
   "cell_type": "code",
   "execution_count": 3,
   "metadata": {},
   "outputs": [
    {
     "name": "stdout",
     "output_type": "stream",
     "text": [
      "train size: 4664  |test size: 1167\n"
     ]
    }
   ],
   "source": [
    "# build input and output in tensor type\n",
    "if torch.cuda.is_available():  # cuda or cpu\n",
    "    Variable = lambda *args, **kwargs: \\\n",
    "        torch.autograd.Variable(*args, **kwargs).cuda()  # Variable: not require gra\n",
    "else:\n",
    "    Variable = lambda *args, **kwargs: \\\n",
    "        torch.autograd.Variable(*args, **kwargs)\n",
    "x = Variable(torch.from_numpy(x0).float(), requires_grad=False)\n",
    "y = Variable((torch.from_numpy(u[:,0])).float(), requires_grad=False)\n",
    "\n",
    "# split the dataset into train and test\n",
    "dataset = torch.utils.data.TensorDataset(x,y)\n",
    "train_size = int(0.8 * len(dataset))\n",
    "test_size = len(dataset) - train_size\n",
    "train_dataset, test_dataset = torch.utils.data.random_split(dataset, [train_size, test_size])\n",
    "print(\"train size:\",len(train_dataset),\" |test size:\",len(test_dataset))\n",
    "\n",
    "# shuffle the data, build dataset batches\n",
    "batch_size = 50\n",
    "train_loader = torch.utils.data.DataLoader(train_dataset, batch_size=batch_size,\n",
    "                                          shuffle=True)\n",
    "test_loader = torch.utils.data.DataLoader(test_dataset, batch_size=batch_size,\n",
    "                                          shuffle=True)"
   ]
  },
  {
   "cell_type": "code",
   "execution_count": 4,
   "metadata": {},
   "outputs": [
    {
     "name": "stdout",
     "output_type": "stream",
     "text": [
      "1\n"
     ]
    }
   ],
   "source": [
    "# Initialize the model.\n",
    "dim_inp = x0.shape[1]\n",
    "dim_out = 1\n",
    "num_hid= 10\n",
    "model = QpNet(dim_inp, dim_out, num_hid, bn=True)\n",
    "device = torch.device(\"cpu\" if torch.cuda.is_available() else \"cpu\")\n",
    "model = model.to(device)\n",
    "loss_fun = torch.nn.MSELoss() # Initialize the loss function\n",
    "\n",
    "# Initialize the optimizer.\n",
    "learning_rate = 1e-3\n",
    "optimizer = torch.optim.Adam(model.parameters(), lr=learning_rate)\n",
    "\n",
    "losses_train = []\n",
    "losses_test = []\n",
    "instructor = Instructor(model, optimizer, loss_fun)"
   ]
  },
  {
   "cell_type": "markdown",
   "metadata": {},
   "source": [
    "# Train the data"
   ]
  },
  {
   "cell_type": "code",
   "execution_count": null,
   "metadata": {},
   "outputs": [],
   "source": [
    "for epoch in range(5):\n",
    "    loss_train = instructor.train(train_loader,epoch)\n",
    "    loss_test = instructor.evaluate(test_loader)\n",
    "    losses_train.append(loss_train)\n",
    "    losses_test.append(loss_test)\n",
    "    print('[epoch: %d] training loss: %.3f, testing loss: %.3f' %\n",
    "                      (epoch + 1, loss_train, loss_test))"
   ]
  },
  {
   "cell_type": "code",
   "execution_count": 25,
   "metadata": {},
   "outputs": [
    {
     "data": {
      "text/plain": [
       "(0.0, 0.8143487144261599)"
      ]
     },
     "execution_count": 25,
     "metadata": {},
     "output_type": "execute_result"
    },
    {
     "data": {
      "image/png": "[encoded data removed]",
      "text/plain": [
       "<Figure size 432x288 with 1 Axes>"
      ]
     },
     "metadata": {
      "needs_background": "light"
     },
     "output_type": "display_data"
    }
   ],
   "source": [
    "plt.plot(losses_train, label='losses_train')\n",
    "plt.plot(losses_test, label='losses_test')\n",
    "plt.legend(loc='upper right')\n",
    "plt.ylabel('Loss')\n",
    "plt.xlabel('Epoch')\n",
    "plt.ylim(ymin=0.)"
   ]
  },
  {
   "cell_type": "code",
   "execution_count": 26,
   "metadata": {},
   "outputs": [
    {
     "data": {
      "text/plain": [
       "tensor([[ 0.8661, -0.7503],\n",
       "        [ 0.7961,  0.3167]], device='cuda:0', grad_fn=<CopyBackwards>)"
      ]
     },
     "execution_count": 26,
     "metadata": {},
     "output_type": "execute_result"
    }
   ],
   "source": [
    "model.A"
   ]
  },
  {
   "cell_type": "code",
   "execution_count": null,
   "metadata": {},
   "outputs": [],
   "source": []
  }
 ],
 "metadata": {
  "kernelspec": {
   "display_name": "Python 3",
   "language": "python",
   "name": "python3"
  },
  "language_info": {
   "codemirror_mode": {
    "name": "ipython",
    "version": 3
   },
   "file_extension": ".py",
   "mimetype": "text/x-python",
   "name": "python",
   "nbconvert_exporter": "python",
   "pygments_lexer": "ipython3",
   "version": "3.7.2"
  }
 },
 "nbformat": 4,
 "nbformat_minor": 2
}
