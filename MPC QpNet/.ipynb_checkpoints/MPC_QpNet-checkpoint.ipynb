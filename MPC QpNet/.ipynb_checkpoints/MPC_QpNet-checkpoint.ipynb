{
 "cells": [
  {
   "cell_type": "markdown",
   "metadata": {},
   "source": [
    "# OptNet/qpth Example Notebook\n",
    "\n",
    "*By [Brandon Amos](https://bamos.github.io) and [J. Zico Kolter](http://zicokolter.com/).*\n",
    "\n",
    "---\n",
    "\n",
    "This notebook is released along with our paper\n",
    "[OptNet: Differentiable Optimization as a Layer in Neural Networks](https://arxiv.org/abs/1703.00443).\n",
    "\n",
    "This notebook shows a minimal example of constructing an\n",
    "OptNet layer in PyTorch with our [qpth library](https://github.com/locuslab/qpth).\n",
    "See [our qpth documentation page](https://locuslab.github.io/qpth/)\n",
    "for more details.\n",
    "The experiments for our paper that use this library are in\n",
    "[this repo](https://github.com/locuslab/optnet).\n",
    "\n",
    "\n",
    "## Setup and Dependencies\n",
    "\n",
    "+ Python/numpy/[PyTorch](https://pytorch.org)\n",
    "+ [qpth](https://github.com/locuslab/qpth):\n",
    "  *Our fast QP solver for PyTorch released in conjunction with this paper.*\n",
    "+ [bamos/block](https://github.com/bamos/block):\n",
    "  *Our intelligent block matrix library for numpy, PyTorch, and beyond.*\n",
    "+ Optional: [bamos/setGPU](https://github.com/bamos/setGPU):\n",
    "  A small library to set `CUDA_VISIBLE_DEVICES` on multi-GPU systems."
   ]
  },
  {
   "cell_type": "code",
   "execution_count": 1,
   "metadata": {},
   "outputs": [],
   "source": [
    "import matplotlib as mpl\n",
    "import matplotlib.pyplot as plt\n",
    "import numpy as np\n",
    "from scipy import io\n",
    "import torch\n",
    "from torch.autograd import Function, Variable\n",
    "import torch.nn as nn\n",
    "from torch.nn.parameter import Parameter\n",
    "import torch.nn.functional as F\n",
    "\n",
    "from instructor import Instructor\n",
    "from qpth.qp import QPFunction\n",
    "\n",
    "\n",
    "plt.style.use('bmh')"
   ]
  },
  {
   "cell_type": "markdown",
   "metadata": {},
   "source": [
    "# Define the model\n",
    "\n",
    "+ We'll be using a network architecture that looks like:\n",
    "\n",
    "```\n",
    "FC-ReLU-(BN)-FC-ReLU-(BN)-QP-softmax\n",
    "```\n",
    "\n",
    "where the QP OptNet layer learns the coefficients `Q`, `q`, `G`,\n",
    "`h`, `A`, `b` for a QP with inequality constraints and equality \n",
    "constraints:\n",
    "\n",
    "```\n",
    "z_{i+1} = argmin_z 1/2*z^T*Q*z + p^T*z\n",
    "              subject to G*z <= h\n",
    "                         A*z = b\n",
    "```"
   ]
  },
  {
   "cell_type": "code",
   "execution_count": 3,
   "metadata": {},
   "outputs": [],
   "source": [
    "import numpy as np\n",
    "import torch\n",
    "from torch.autograd import Variable\n",
    "import torch.nn as nn\n",
    "from torch.nn.parameter import Parameter\n",
    "import torch.nn.functional as F\n",
    "\n",
    "from qpth.qp import QPFunction"
   ]
  },
  {
   "cell_type": "code",
   "execution_count": 6,
   "metadata": {},
   "outputs": [],
   "source": [
    "class QpNet(nn.Module):\n",
    "    \"\"\"Builds the strucre of the QPNet.\n",
    "    \n",
    "    The struture is FC-ReLU-(BN)-FC-ReLU-(BN)-QP-FC.\n",
    "    QP means the optimization problem layer over`nz` variables, \n",
    "    having `nineq` inequality constraints and `neq` equality \n",
    "    constraints.\n",
    "    The optimization problem is of the form\n",
    "        \\hat z =   argmin_z 1/2*z^T*Q*z + p^T*z\n",
    "                subject to G*z <= h\n",
    "                           A*z = b\n",
    "    where Q \\in S^{nz,nz},\n",
    "        S^{nz,nz} is the set of all positive semi-definite matrices,\n",
    "        p \\in R^{nz}\n",
    "        G \\in R^{nineq,nz}\n",
    "        h \\in R^{nineq}\n",
    "        A \\in R^{neq,nz}\n",
    "        b \\in R^{neq}\n",
    "        This layer has Q = L*L^T+ϵ*I where L is a lower-triangular matrix,\n",
    "        and h = G*z0 + s0, b = A*z0 for some learnable z0 and s0,  \n",
    "        to ensure the problem is always feasible.\n",
    "    \"\"\"\n",
    "    \n",
    "    def __init__(self, num_input, num_output, num_hidden, bn, num_u=5, eps=1e-4):\n",
    "\n",
    "        \"\"\"Initiates OptNet.\"\"\"\n",
    "        super().__init__()\n",
    "        self.num_input = num_input\n",
    "        self.num_output = num_output\n",
    "        self.num_hidden = num_hidden\n",
    "        self.bn = bn\n",
    "        self.num_u = num_u\n",
    "        self.eps = eps\n",
    "        \n",
    "        self.N = int(self.num_u/self.num_output)  # get the number of the finite steps in MPC\n",
    "        self.num_ineq = num_u + num_input*(self.N-1)\n",
    "        \n",
    "        # normal BN/FC layers.\n",
    "        if bn:\n",
    "            self.bn1 = nn.BatchNorm1d(num_hidden)\n",
    "            self.bn2 = nn.BatchNorm1d(num_u)\n",
    "\n",
    "        self.fc1 = nn.Linear(num_input, num_hidden)\n",
    "        self.fc2 = nn.Linear(num_hidden, num_u)\n",
    "        self.fc3 = nn.Linear(num_u, num_output)\n",
    "\n",
    "        # builds baisc tensors for QP parameters\n",
    "        if torch.cuda.is_available():\n",
    "            self.Variable = lambda *args, **kwargs: \\\n",
    "            torch.autograd.Variable(*args, **kwargs).cuda()\n",
    "            self.Parameter = lambda *args, **kwargs: \\\n",
    "            torch.nn.parameter.Parameter(*args, **kwargs).cuda()\n",
    "        else:\n",
    "            self.Variable = lambda *args, **kwargs: \\\n",
    "            torch.autograd.Variable(*args, **kwargs)\n",
    "            self.Parameter = lambda *args, **kwargs: \\\n",
    "            torch.nn.parameter.Parameter(*args, **kwargs)\n",
    "        self.M = self.Variable(torch.tril(torch.ones(num_input, num_input)))\n",
    "        self.L = self.Parameter(torch.tril(torch.rand(num_input, num_input)))\n",
    "        self.L.retain_grad()\n",
    "        self.M_P = self.Variable(torch.tril(torch.ones(num_input, num_input)))\n",
    "        self.L_P = self.Parameter(torch.tril(torch.rand(num_input, num_input)))\n",
    "        self.L_P.retain_grad()\n",
    "        self.M_R = self.Variable(torch.tril(torch.ones(num_output, num_output)))\n",
    "        self.L_R = self.Parameter(torch.tril(torch.rand(num_output, num_output)))\n",
    "        self.L_R.retain_grad()\n",
    "        self.I = self.Variable(torch.eye(num_input))\n",
    "        self.I_R = self.Variable(torch.eye(num_output))\n",
    "        self.A = self.Parameter(torch.Tensor(num_input,num_input).uniform_(-1,1))\n",
    "        self.A.retain_grad()\n",
    "        self.B = self.Parameter(torch.Tensor(num_input,num_output).uniform_(-1,1))\n",
    "        self.B.retain_grad()\n",
    "        self.u0 = self.Parameter(torch.zeros(num_u))\n",
    "        self.u0.retain_grad()\n",
    "        self.s0 = self.Parameter(torch.ones(self.num_ineq))\n",
    "        self.s0.retain_grad()\n",
    "        self.B_hat = self.build_B_block()\n",
    "        \n",
    "        # set up the QP parameters Q=L*L^T+ϵ*I, h = G*u_0+s_0\n",
    "        L = self.M*self.L\n",
    "        Q = L.mm(L.t()) + self.eps*self.I\n",
    "        L_P = self.M_P*self.L_P\n",
    "        P = L_P.mm(L_P.t()) + self.eps*self.I\n",
    "        L_R = self.M_R*self.L_R\n",
    "        R = L_R.mm(L_R.t()) + self.eps*self.I_R\n",
    "        self.Q_hat = self.build_Q_block(Q, P, R)\n",
    "        \n",
    "        self.G = self.build_G_block()\n",
    "        self.h = self.G.mv(self.u0)+self.s0\n",
    "        \n",
    "        \n",
    "        weight = torch.zeros(num_u)\n",
    "        weight[0] = 1.0\n",
    "        self.weight = self.Variable(weight)\n",
    "            \n",
    "\n",
    "    def forward(self, x):\n",
    "        \"\"\"Builds the forward strucre of the QPNet.\n",
    "        Sequence: FC-ReLU-(BN)-FC-ReLU-(BN)-QP-Softmax.\n",
    "        \"\"\"\n",
    "        nBatch = x.size(0)\n",
    "        \n",
    "        # normal FC network.\n",
    "        x = x.view(nBatch, -1)\n",
    "        x = F.leaky_relu(self.fc1(x), 0.2)\n",
    "        if self.bn:  # if applies a batch normalization \n",
    "            x = self.bn1(x)\n",
    "        x = F.leaky_relu(self.fc2(x), 0.2)\n",
    "        if self.bn:\n",
    "            x = self.bn2(x)\n",
    "        \n",
    "        # gets the solution of the basic optimization problem\n",
    "        e = Variable(torch.Tensor())\n",
    "        x = QPFunction(verbose=-1)(self.Q_hat, x, self.G, self.h, e, e)  \n",
    "        # shows solver warning if verbose >= 0\n",
    "\n",
    "        return (x.mv(self.weight))  # only return the fisrt action\n",
    "    \n",
    "    def build_B_block(self):\n",
    "        \"\"\"In MPC, express x vector in u vector and compute the new big B_hat matrix\n",
    "        [B 0 0 ...\n",
    "        [AB B 0\n",
    "        ...\n",
    "        \"\"\"\n",
    "\n",
    "        N = self.N  # number of MPC steps\n",
    "        row_list = []  # reocrd the every row in B_hat\n",
    "        \n",
    "        first_block = self.B\n",
    "        zero = self.Variable(torch.zeros(self.num_input, self.num_output*(N-1)))\n",
    "        row= torch.cat([first_block, zero],1)\n",
    "        row_list.append(row)\n",
    "        \n",
    "        for i in range(1, N-1):\n",
    "            first_block = self.A.mm(first_block)\n",
    "            row = torch.cat([first_block, row[:,:self.num_output*(N-1)]],1)\n",
    "            row_list.append(row)  \n",
    "            \n",
    "        return torch.cat(row_list,0)\n",
    "        \n",
    "        \n",
    "    def build_Qdiagnol_block(self, Q, P):\n",
    "        \"\"\" (num_imput*(N-1)) x (num_imput*(N-1))\n",
    "        The last block is P for x(N)\"\"\"\n",
    "        \n",
    "        N = self.N-1  # number of MPC steps\n",
    "        num_input = self.num_input\n",
    "        \n",
    "        row_list = []  # reocrd the every row in B_hat\n",
    "        zero = self.Variable(torch.zeros(num_input, num_input*(N-1)))\n",
    "        row_long = torch.cat([zero, Q, zero],1)  # [0 0 ... Q 0 0 ...]\n",
    "        for i in range(N, 1, -1):\n",
    "            row_list.append(row_long[:, (i-1)*num_input : (i+N-1)*num_input])\n",
    "            \n",
    "        row = torch.cat([zero, P],1)  # last line by [0 P]\n",
    "        row_list.append(row)\n",
    "        \n",
    "        return torch.cat(row_list,0)\n",
    "    \n",
    "    def build_Rdiagnol_block(self, R):\n",
    "        \"\"\"\n",
    "        [R 0 0 ...\n",
    "        [0 R 0\n",
    "        ...\n",
    "        \"\"\"\n",
    "        N = self.N  # number of MPC steps\n",
    "        num_output = self.num_output\n",
    "        \n",
    "        row_list = []  # reocrd the every row in B_hat\n",
    "        zero = self.Variable(torch.zeros(num_output, num_output*(N-1)))\n",
    "        \n",
    "        row_long = torch.cat([zero, R, zero],1)  # [0 0 ... Q 0 0 ...]\n",
    "        \n",
    "        for i in range(N, 0, -1):\n",
    "            row_list.append(row_long[:, (i-1)*num_output : (i+N-1)*num_output])\n",
    "        return torch.cat(row_list,0)\n",
    "        \n",
    "    def build_Q_block(self, Q, P, R):\n",
    "        \"\"\"Build the Q_hat matrix so that MPC is tranfered into basic optimization problem\n",
    "        Q_hat = B_hat^T * diag(Q) * B_hat + diag(R)\n",
    "        \"\"\"\n",
    "        \n",
    "        Q_diag = self.build_Qdiagnol_block(Q,P)\n",
    "        R_diag = self.build_Rdiagnol_block(R)\n",
    "        Q_hat = self.B_hat.t().mm(Q_diag.mm(self.B_hat)) + R_diag\n",
    "        return Q_hat \n",
    "        \n",
    "        \n",
    "    def build_G_block(self):\n",
    "        \"\"\"Build the G matrix so that MPC is tranfered into basic optimization problem\n",
    "        G = [eye(num_u)]\n",
    "            [   B_hat  ]\n",
    "        \"\"\"\n",
    "        \n",
    "        eye = self.Variable(torch.eye(self.num_u))\n",
    "        G = torch.cat((eye, self.B_hat), 0)\n",
    "        print(self.B_hat)\n",
    "        print(G.size())\n",
    "        return G\n",
    "        \n",
    "        \n",
    "        "
   ]
  },
  {
   "cell_type": "code",
   "execution_count": 164,
   "metadata": {},
   "outputs": [
    {
     "name": "stdout",
     "output_type": "stream",
     "text": [
      "tensor([[-0.2668,  0.0000,  0.0000,  0.0000,  0.0000],\n",
      "        [-0.6508,  0.0000,  0.0000,  0.0000,  0.0000],\n",
      "        [ 0.6543, -0.2668,  0.0000,  0.0000,  0.0000],\n",
      "        [-0.1552, -0.6508,  0.0000,  0.0000,  0.0000],\n",
      "        [-0.2677,  0.6543, -0.2668,  0.0000,  0.0000],\n",
      "        [-0.5348, -0.1552, -0.6508,  0.0000,  0.0000],\n",
      "        [ 0.5663, -0.2677,  0.6543, -0.2668,  0.0000],\n",
      "        [-0.0939, -0.5348, -0.1552, -0.6508,  0.0000]], device='cuda:0',\n",
      "       grad_fn=<CatBackward>)\n",
      "torch.Size([13, 5])\n"
     ]
    }
   ],
   "source": [
    "# Initialize the model.\n",
    "dim_inp = x0.shape[1]\n",
    "dim_out = 1\n",
    "num_hid= 10\n",
    "model = OptNet(dim_inp, dim_out, num_hid, bn=True)\n",
    "loss_fun = torch.nn.MSELoss()\n",
    "device = torch.device(\"cuda:0\" if torch.cuda.is_available() else \"cpu\")\n",
    "model = model.to(device)\n",
    "\n",
    "# Initialize the optimizer.\n",
    "learning_rate = 1e-3\n",
    "optimizer = torch.optim.Adam(model.parameters(), lr=learning_rate)\n",
    "\n",
    "losses_train = []\n",
    "losses_test = []"
   ]
  },
  {
   "cell_type": "code",
   "execution_count": 140,
   "metadata": {},
   "outputs": [
    {
     "name": "stdout",
     "output_type": "stream",
     "text": [
      "5\n",
      "4\n",
      "3\n",
      "2\n",
      "1\n"
     ]
    }
   ],
   "source": [
    "for i in range(5, 0,-1):\n",
    "    print(i)"
   ]
  },
  {
   "cell_type": "code",
   "execution_count": 93,
   "metadata": {},
   "outputs": [
    {
     "name": "stdout",
     "output_type": "stream",
     "text": [
      "True\n",
      "tensor([1.]) None\n",
      "tensor([1.]) None\n"
     ]
    }
   ],
   "source": [
    "a = Parameter(torch.tensor([1.]))\n",
    "a.retain_grad()\n",
    "print(a.requires_grad)\n",
    "b = Variable(torch.ones(1))\n",
    "\n",
    "c = a+b\n",
    "c.backward()\n",
    "print(a.grad, b.grad)\n",
    "a = torch.tensor([1.])\n",
    "a.requires_grad = True\n",
    "b = torch.tensor([1.])\n",
    "d = a+b\n",
    "d.backward()\n",
    "print(a.grad, b.grad)"
   ]
  },
  {
   "cell_type": "code",
   "execution_count": 94,
   "metadata": {},
   "outputs": [],
   "source": [
    "class ex(nn.Module):\n",
    "    def __init__(self):\n",
    "        if torch.cuda.is_available():\n",
    "            Variable = lambda *args, **kwargs: torch.autograd.Variable(*args, **kwargs).cuda()\n",
    "            self.Parameter = lambda *args, **kwargs: torch.nn.parameter.Parameter(*args, **kwargs).cuda() \n",
    "model = ex()\n"
   ]
  },
  {
   "cell_type": "code",
   "execution_count": 95,
   "metadata": {},
   "outputs": [],
   "source": [
    "if torch.cuda.is_available():\n",
    "    Variable = lambda *args, **kwargs: torch.autograd.Variable(*args, **kwargs).cuda()\n",
    "    Parameter = lambda *args, **kwargs: torch.nn.parameter.Parameter(*args, **kwargs).cuda() \n",
    "a = Variable(torch.eye(2))\n",
    "b = Parameter(torch.Tensor(2,2).uniform_(-1,1))"
   ]
  },
  {
   "cell_type": "code",
   "execution_count": 96,
   "metadata": {},
   "outputs": [
    {
     "name": "stdout",
     "output_type": "stream",
     "text": [
      "<CatBackward object at 0x7fbabd15c160>\n"
     ]
    }
   ],
   "source": [
    "print(torch.cat((a,b),0).grad_fn)"
   ]
  },
  {
   "cell_type": "code",
   "execution_count": 97,
   "metadata": {},
   "outputs": [
    {
     "name": "stdout",
     "output_type": "stream",
     "text": [
      "None\n"
     ]
    }
   ],
   "source": [
    "a = Variable(torch.eye(2))\n",
    "b = Variable(torch.Tensor(2,2).uniform_(-1,1))\n",
    "print(torch.cat((a,b),0).grad_fn)"
   ]
  },
  {
   "cell_type": "markdown",
   "metadata": {},
   "source": [
    "# Train the network\n",
    "\n",
    "+ Create random data for a regression task and then optimize the parameters with Adam."
   ]
  },
  {
   "cell_type": "code",
   "execution_count": 4,
   "metadata": {},
   "outputs": [
    {
     "name": "stdout",
     "output_type": "stream",
     "text": [
      "shape of x0: (81, 2)  |shape of u: (81, 5)\n"
     ]
    }
   ],
   "source": [
    "# load data from .mat file\n",
    "mat = io.loadmat('./1002.mat')\n",
    "x0 = np.transpose(mat['x'])\n",
    "u = np.transpose(mat['u'])\n",
    "print(\"shape of x0:\",x0.shape,\" |shape of u:\",u.shape)\n"
   ]
  },
  {
   "cell_type": "code",
   "execution_count": 5,
   "metadata": {},
   "outputs": [],
   "source": [
    "\n",
    "\n",
    "# build input and output in tensor type\n",
    "x = Variable(torch.from_numpy(x0).float(), requires_grad=False)\n",
    "y = Variable((torch.from_numpy(u[:,0])).float(), requires_grad=False)\n",
    "if torch.cuda.is_available():\n",
    "    x = x.cuda()\n",
    "    y = y.cuda()"
   ]
  },
  {
   "cell_type": "code",
   "execution_count": 6,
   "metadata": {},
   "outputs": [
    {
     "name": "stdout",
     "output_type": "stream",
     "text": [
      "train size: 64  |test size: 17\n"
     ]
    }
   ],
   "source": [
    "# split the dataset into train and test\n",
    "dataset = torch.utils.data.TensorDataset(x,y)\n",
    "train_size = int(0.8 * len(dataset))\n",
    "test_size = len(dataset) - train_size\n",
    "print(\"train size:\",train_size,\" |test size:\",test_size)\n",
    "train_dataset, test_dataset = torch.utils.data.random_split(dataset, [train_size, test_size])\n",
    "\n",
    "# shuffle the data, build dataset batches\n",
    "batch_size = 10\n",
    "train_loader = torch.utils.data.DataLoader(train_dataset, batch_size=batch_size,\n",
    "                                          shuffle=True)\n",
    "test_loader = torch.utils.data.DataLoader(test_dataset, batch_size=batch_size,\n",
    "                                          shuffle=True)"
   ]
  },
  {
   "cell_type": "code",
   "execution_count": 7,
   "metadata": {},
   "outputs": [
    {
     "data": {
      "text/plain": [
       "(tensor([-1.0000, -1.5000], device='cuda:0'), tensor(1., device='cuda:0'))"
      ]
     },
     "execution_count": 7,
     "metadata": {},
     "output_type": "execute_result"
    }
   ],
   "source": [
    "train_dataset[1]"
   ]
  },
  {
   "cell_type": "code",
   "execution_count": 8,
   "metadata": {},
   "outputs": [
    {
     "name": "stdout",
     "output_type": "stream",
     "text": [
      "tensor([[ 0.9356,  0.0000,  0.0000,  0.0000,  0.0000],\n",
      "        [ 0.6236,  0.0000,  0.0000,  0.0000,  0.0000],\n",
      "        [ 0.3777,  0.9356,  0.0000,  0.0000,  0.0000],\n",
      "        [-0.6817,  0.6236,  0.0000,  0.0000,  0.0000],\n",
      "        [ 0.3009,  0.3777,  0.9356,  0.0000,  0.0000],\n",
      "        [-0.5824, -0.6817,  0.6236,  0.0000,  0.0000],\n",
      "        [ 0.2459,  0.3009,  0.3777,  0.9356,  0.0000],\n",
      "        [-0.4769, -0.5824, -0.6817,  0.6236,  0.0000]], device='cuda:0',\n",
      "       grad_fn=<CatBackward>)\n",
      "torch.Size([13, 5])\n"
     ]
    }
   ],
   "source": [
    "# Initialize the model.\n",
    "dim_inp = x0.shape[1]\n",
    "dim_out = 1\n",
    "num_hid= 10\n",
    "model = QpNet(dim_inp, dim_out, num_hid, bn=True)\n",
    "loss_fun = torch.nn.MSELoss()\n",
    "device = torch.device(\"cuda:0\" if torch.cuda.is_available() else \"cpu\")\n",
    "model = model.to(device)\n",
    "\n",
    "# Initialize the optimizer.\n",
    "learning_rate = 1e-3\n",
    "optimizer = torch.optim.Adam(model.parameters(), lr=learning_rate)\n",
    "\n",
    "losses_train = []\n",
    "losses_test = []"
   ]
  },
  {
   "cell_type": "code",
   "execution_count": 9,
   "metadata": {},
   "outputs": [],
   "source": [
    "class Instructor():\n",
    "    \"\"\" build functions for model training, evaluation, saving, loading\n",
    "     \n",
    "    evaluate(self, loader): elvauate the loss from loader data \n",
    "    \"\"\"\n",
    "\n",
    "    def __init__(self,model, optimizer, criterion):\n",
    "        self.model = model\n",
    "        self.optimizer = optimizer\n",
    "        self.criterion = criterion\n",
    "        \n",
    "    def train(self, loader, epoch):\n",
    "        \"\"\"Trains the model for one epoch.\n",
    "        Inputs the epcoh number for print information\"\"\"\n",
    "        losses = 0.0\n",
    "        run_loss = 0.0\n",
    "        self.model.train()\n",
    "        for t, (inp, out) in enumerate(loader):\n",
    "            self.optimizer.zero_grad()\n",
    "            out_pre = self.model(inp)\n",
    "            loss = self.criterion(out_pre, out)\n",
    "            run_loss += loss.data\n",
    "            losses += loss.data\n",
    "            if (t+1) % 100 == 0:\n",
    "                print('[epoch: %d, %5d] training loss: %.3f' %\n",
    "                      (epoch + 1, t + 1, run_loss / 100))\n",
    "                run_loss = 0.0\n",
    "            \n",
    "            loss.backward(retain_graph=True)\n",
    "            self.optimizer.step()        \n",
    "        return losses/(t+1)\n",
    "\n",
    "    \n",
    "    def evaluate(self, loader):\n",
    "\n",
    "        losses = 0\n",
    "        self.model.eval()\n",
    "        with torch.no_grad():\n",
    "            for t, (inp, out) in enumerate(loader):\n",
    "                out_pre = self.model(inp)\n",
    "                loss = self.criterion(out_pre, out)\n",
    "                losses += loss.data\n",
    "#         print('input', inp)\n",
    "#         print('output_pre', out_pre)\n",
    "#         print(out)\n",
    "        return losses/(t+1)\n",
    "    \n",
    "    def save(self,state,dir):\n",
    "        \"\"\" Saves the model in location 'dir'.\n",
    "        example:\n",
    "        state = {'net':model.state_dict(), 'optimizer':optimizer.state_dict(), 'epoch':epoch}\n",
    "        dir = './model_trained/model_name'\n",
    "        \"\"\"\n",
    "        if not os.path.isdir('model_trained'): #save model in a file \"model_trainded\"\n",
    "            os.mkdir('model_trained')\n",
    "        torch.save(state, dir)\n",
    "        print('--- Save last model state')\n",
    "\n",
    "    def load(self,dir):\n",
    "        \"\"\" Loads the model in location 'dir', including net parameter, optimer, epoch number.\n",
    "        Returns the next epoch number\n",
    "        \"\"\"\n",
    "        if not os.path.isdir('model_trained'): #find the file for model saving and loading\n",
    "            os.mkdir('model_trained')\n",
    "        checkpoint = torch.load(dir)\n",
    "        self.model.load_state_dict(checkpoint['net'])\n",
    "        self.optimizer.load_state_dict(checkpoint['optimizer'])\n",
    "        start_epoch = checkpoint['epoch'] + 1\n",
    "        print('--- Load last model state')\n",
    "        print('start epoch:',start_epoch)\n",
    "        return start_epoch"
   ]
  },
  {
   "cell_type": "code",
   "execution_count": 12,
   "metadata": {},
   "outputs": [
    {
     "name": "stdout",
     "output_type": "stream",
     "text": [
      "[epoch: 1] training loss: 0.138, testing loss: 0.246\n",
      "[epoch: 2] training loss: 0.172, testing loss: 0.222\n",
      "[epoch: 3] training loss: 0.133, testing loss: 0.150\n",
      "[epoch: 4] training loss: 0.179, testing loss: 0.140\n",
      "[epoch: 5] training loss: 0.149, testing loss: 0.128\n",
      "[epoch: 6] training loss: 0.086, testing loss: 0.105\n",
      "[epoch: 7] training loss: 0.145, testing loss: 0.143\n",
      "[epoch: 8] training loss: 0.200, testing loss: 0.164\n",
      "[epoch: 9] training loss: 0.189, testing loss: 0.107\n",
      "[epoch: 10] training loss: 0.088, testing loss: 0.112\n",
      "[epoch: 11] training loss: 0.072, testing loss: 0.131\n",
      "[epoch: 12] training loss: 0.143, testing loss: 0.114\n",
      "[epoch: 13] training loss: 0.315, testing loss: 0.118\n",
      "[epoch: 14] training loss: 0.116, testing loss: 0.081\n",
      "[epoch: 15] training loss: 0.155, testing loss: 0.077\n",
      "[epoch: 16] training loss: 0.127, testing loss: 0.062\n",
      "[epoch: 17] training loss: 0.186, testing loss: 0.076\n",
      "[epoch: 18] training loss: 0.173, testing loss: 0.053\n",
      "[epoch: 19] training loss: 0.087, testing loss: 0.056\n",
      "[epoch: 20] training loss: 0.045, testing loss: 0.059\n",
      "[epoch: 21] training loss: 0.116, testing loss: 0.059\n",
      "[epoch: 22] training loss: 0.128, testing loss: 0.061\n",
      "[epoch: 23] training loss: 0.069, testing loss: 0.071\n",
      "[epoch: 24] training loss: 0.194, testing loss: 0.056\n",
      "[epoch: 25] training loss: 0.320, testing loss: 0.028\n",
      "[epoch: 26] training loss: 0.133, testing loss: 0.047\n",
      "[epoch: 27] training loss: 0.227, testing loss: 0.043\n",
      "[epoch: 28] training loss: 0.061, testing loss: 0.055\n",
      "[epoch: 29] training loss: 0.079, testing loss: 0.056\n",
      "[epoch: 30] training loss: 0.130, testing loss: 0.050\n"
     ]
    }
   ],
   "source": [
    "#from instructor import Instructor\n",
    "learning_rate = 1e-3\n",
    "optimizer = torch.optim.Adam(model.parameters(), lr=learning_rate)\n",
    "instructor = Instructor(model, optimizer, loss_fun)\n",
    "\n",
    "# train the data\n",
    "for epoch in range(30):\n",
    "    loss_train = instructor.train(train_loader,epoch)\n",
    "    loss_test = instructor.evaluate(test_loader)\n",
    "    losses_train.append(loss_train)\n",
    "    losses_test.append(loss_test)\n",
    "    print('[epoch: %d] training loss: %.3f, testing loss: %.3f' %\n",
    "                      (epoch + 1, loss_train, loss_test))"
   ]
  },
  {
   "cell_type": "code",
   "execution_count": 16,
   "metadata": {},
   "outputs": [
    {
     "data": {
      "text/plain": [
       "tensor([[ 1.0000,  0.0000,  0.0000,  0.0000,  0.0000],\n",
       "        [ 0.0000,  1.0000,  0.0000,  0.0000,  0.0000],\n",
       "        [ 0.0000,  0.0000,  1.0000,  0.0000,  0.0000],\n",
       "        [ 0.0000,  0.0000,  0.0000,  1.0000,  0.0000],\n",
       "        [ 0.0000,  0.0000,  0.0000,  0.0000,  1.0000],\n",
       "        [ 0.9356,  0.0000,  0.0000,  0.0000,  0.0000],\n",
       "        [ 0.6236,  0.0000,  0.0000,  0.0000,  0.0000],\n",
       "        [ 0.3777,  0.9356,  0.0000,  0.0000,  0.0000],\n",
       "        [-0.6817,  0.6236,  0.0000,  0.0000,  0.0000],\n",
       "        [ 0.3009,  0.3777,  0.9356,  0.0000,  0.0000],\n",
       "        [-0.5824, -0.6817,  0.6236,  0.0000,  0.0000],\n",
       "        [ 0.2459,  0.3009,  0.3777,  0.9356,  0.0000],\n",
       "        [-0.4769, -0.5824, -0.6817,  0.6236,  0.0000]], device='cuda:0',\n",
       "       grad_fn=<CatBackward>)"
      ]
     },
     "execution_count": 16,
     "metadata": {},
     "output_type": "execute_result"
    }
   ],
   "source": [
    "model.G"
   ]
  },
  {
   "cell_type": "code",
   "execution_count": 72,
   "metadata": {},
   "outputs": [
    {
     "name": "stderr",
     "output_type": "stream",
     "text": [
      "/home/season/anaconda3/lib/python3.7/site-packages/ipykernel_launcher.py:84: UserWarning: Implicit dimension choice for log_softmax has been deprecated. Change the call to include dim=X as an argument.\n",
      "/home/season/anaconda3/lib/python3.7/site-packages/torch/nn/modules/loss.py:431: UserWarning: Using a target size (torch.Size([10])) that is different to the input size (torch.Size([10, 1])). This will likely lead to incorrect results due to broadcasting. Please ensure they have the same size.\n",
      "  return F.mse_loss(input, target, reduction=self.reduction)\n"
     ]
    },
    {
     "name": "stdout",
     "output_type": "stream",
     "text": [
      "[1,   100] loss: 0.764\n"
     ]
    },
    {
     "ename": "KeyboardInterrupt",
     "evalue": "",
     "output_type": "error",
     "traceback": [
      "\u001b[0;31m---------------------------------------------------------------------------\u001b[0m",
      "\u001b[0;31mKeyboardInterrupt\u001b[0m                         Traceback (most recent call last)",
      "\u001b[0;32m<ipython-input-72-685cd8c2e9aa>\u001b[0m in \u001b[0;36m<module>\u001b[0;34m\u001b[0m\n\u001b[1;32m      3\u001b[0m     \u001b[0;32mfor\u001b[0m \u001b[0mt\u001b[0m\u001b[0;34m,\u001b[0m \u001b[0;34m(\u001b[0m\u001b[0minp\u001b[0m\u001b[0;34m,\u001b[0m \u001b[0mout\u001b[0m\u001b[0;34m)\u001b[0m \u001b[0;32min\u001b[0m \u001b[0menumerate\u001b[0m\u001b[0;34m(\u001b[0m\u001b[0mtrain_loader\u001b[0m\u001b[0;34m)\u001b[0m\u001b[0;34m:\u001b[0m\u001b[0;34m\u001b[0m\u001b[0;34m\u001b[0m\u001b[0m\n\u001b[1;32m      4\u001b[0m         \u001b[0;31m# Forward pass: compute predicted y by passing x to the model.\u001b[0m\u001b[0;34m\u001b[0m\u001b[0;34m\u001b[0m\u001b[0;34m\u001b[0m\u001b[0m\n\u001b[0;32m----> 5\u001b[0;31m         \u001b[0mout_pred\u001b[0m \u001b[0;34m=\u001b[0m \u001b[0mmodel\u001b[0m\u001b[0;34m(\u001b[0m\u001b[0minp\u001b[0m\u001b[0;34m)\u001b[0m\u001b[0;34m\u001b[0m\u001b[0;34m\u001b[0m\u001b[0m\n\u001b[0m\u001b[1;32m      6\u001b[0m \u001b[0;34m\u001b[0m\u001b[0m\n\u001b[1;32m      7\u001b[0m         \u001b[0;31m# Compute and print loss.\u001b[0m\u001b[0;34m\u001b[0m\u001b[0;34m\u001b[0m\u001b[0;34m\u001b[0m\u001b[0m\n",
      "\u001b[0;32m~/anaconda3/lib/python3.7/site-packages/torch/nn/modules/module.py\u001b[0m in \u001b[0;36m__call__\u001b[0;34m(self, *input, **kwargs)\u001b[0m\n\u001b[1;32m    545\u001b[0m             \u001b[0mresult\u001b[0m \u001b[0;34m=\u001b[0m \u001b[0mself\u001b[0m\u001b[0;34m.\u001b[0m\u001b[0m_slow_forward\u001b[0m\u001b[0;34m(\u001b[0m\u001b[0;34m*\u001b[0m\u001b[0minput\u001b[0m\u001b[0;34m,\u001b[0m \u001b[0;34m**\u001b[0m\u001b[0mkwargs\u001b[0m\u001b[0;34m)\u001b[0m\u001b[0;34m\u001b[0m\u001b[0;34m\u001b[0m\u001b[0m\n\u001b[1;32m    546\u001b[0m         \u001b[0;32melse\u001b[0m\u001b[0;34m:\u001b[0m\u001b[0;34m\u001b[0m\u001b[0;34m\u001b[0m\u001b[0m\n\u001b[0;32m--> 547\u001b[0;31m             \u001b[0mresult\u001b[0m \u001b[0;34m=\u001b[0m \u001b[0mself\u001b[0m\u001b[0;34m.\u001b[0m\u001b[0mforward\u001b[0m\u001b[0;34m(\u001b[0m\u001b[0;34m*\u001b[0m\u001b[0minput\u001b[0m\u001b[0;34m,\u001b[0m \u001b[0;34m**\u001b[0m\u001b[0mkwargs\u001b[0m\u001b[0;34m)\u001b[0m\u001b[0;34m\u001b[0m\u001b[0;34m\u001b[0m\u001b[0m\n\u001b[0m\u001b[1;32m    548\u001b[0m         \u001b[0;32mfor\u001b[0m \u001b[0mhook\u001b[0m \u001b[0;32min\u001b[0m \u001b[0mself\u001b[0m\u001b[0;34m.\u001b[0m\u001b[0m_forward_hooks\u001b[0m\u001b[0;34m.\u001b[0m\u001b[0mvalues\u001b[0m\u001b[0;34m(\u001b[0m\u001b[0;34m)\u001b[0m\u001b[0;34m:\u001b[0m\u001b[0;34m\u001b[0m\u001b[0;34m\u001b[0m\u001b[0m\n\u001b[1;32m    549\u001b[0m             \u001b[0mhook_result\u001b[0m \u001b[0;34m=\u001b[0m \u001b[0mhook\u001b[0m\u001b[0;34m(\u001b[0m\u001b[0mself\u001b[0m\u001b[0;34m,\u001b[0m \u001b[0minput\u001b[0m\u001b[0;34m,\u001b[0m \u001b[0mresult\u001b[0m\u001b[0;34m)\u001b[0m\u001b[0;34m\u001b[0m\u001b[0;34m\u001b[0m\u001b[0m\n",
      "\u001b[0;32m<ipython-input-57-3f58f8b50739>\u001b[0m in \u001b[0;36mforward\u001b[0;34m(self, x)\u001b[0m\n\u001b[1;32m     79\u001b[0m         \u001b[0mh\u001b[0m \u001b[0;34m=\u001b[0m \u001b[0mself\u001b[0m\u001b[0;34m.\u001b[0m\u001b[0mG\u001b[0m\u001b[0;34m.\u001b[0m\u001b[0mmv\u001b[0m\u001b[0;34m(\u001b[0m\u001b[0mself\u001b[0m\u001b[0;34m.\u001b[0m\u001b[0mz0\u001b[0m\u001b[0;34m)\u001b[0m\u001b[0;34m+\u001b[0m\u001b[0mself\u001b[0m\u001b[0;34m.\u001b[0m\u001b[0ms0\u001b[0m\u001b[0;34m\u001b[0m\u001b[0;34m\u001b[0m\u001b[0m\n\u001b[1;32m     80\u001b[0m         \u001b[0mb\u001b[0m \u001b[0;34m=\u001b[0m \u001b[0mself\u001b[0m\u001b[0;34m.\u001b[0m\u001b[0mA\u001b[0m\u001b[0;34m.\u001b[0m\u001b[0mmv\u001b[0m\u001b[0;34m(\u001b[0m\u001b[0mself\u001b[0m\u001b[0;34m.\u001b[0m\u001b[0mz0\u001b[0m\u001b[0;34m)\u001b[0m\u001b[0;34m\u001b[0m\u001b[0;34m\u001b[0m\u001b[0m\n\u001b[0;32m---> 81\u001b[0;31m         \u001b[0mx\u001b[0m \u001b[0;34m=\u001b[0m \u001b[0mQPFunction\u001b[0m\u001b[0;34m(\u001b[0m\u001b[0mverbose\u001b[0m\u001b[0;34m=\u001b[0m\u001b[0;34m-\u001b[0m\u001b[0;36m1\u001b[0m\u001b[0;34m)\u001b[0m\u001b[0;34m(\u001b[0m\u001b[0mQ\u001b[0m\u001b[0;34m,\u001b[0m \u001b[0mx\u001b[0m\u001b[0;34m,\u001b[0m \u001b[0mself\u001b[0m\u001b[0;34m.\u001b[0m\u001b[0mG\u001b[0m\u001b[0;34m,\u001b[0m \u001b[0mh\u001b[0m\u001b[0;34m,\u001b[0m \u001b[0mself\u001b[0m\u001b[0;34m.\u001b[0m\u001b[0mA\u001b[0m\u001b[0;34m,\u001b[0m \u001b[0mb\u001b[0m\u001b[0;34m)\u001b[0m\u001b[0;34m\u001b[0m\u001b[0;34m\u001b[0m\u001b[0m\n\u001b[0m\u001b[1;32m     82\u001b[0m         \u001b[0;31m# shows solver warning if verbose >= 0\u001b[0m\u001b[0;34m\u001b[0m\u001b[0;34m\u001b[0m\u001b[0;34m\u001b[0m\u001b[0m\n\u001b[1;32m     83\u001b[0m \u001b[0;34m\u001b[0m\u001b[0m\n",
      "\u001b[0;32m~/anaconda3/lib/python3.7/site-packages/qpth/qp.py\u001b[0m in \u001b[0;36mforward\u001b[0;34m(ctx, Q_, p_, G_, h_, A_, b_)\u001b[0m\n\u001b[1;32m     94\u001b[0m                 zhats, ctx.nus, ctx.lams, ctx.slacks = pdipm_b.forward(\n\u001b[1;32m     95\u001b[0m                     \u001b[0mQ\u001b[0m\u001b[0;34m,\u001b[0m \u001b[0mp\u001b[0m\u001b[0;34m,\u001b[0m \u001b[0mG\u001b[0m\u001b[0;34m,\u001b[0m \u001b[0mh\u001b[0m\u001b[0;34m,\u001b[0m \u001b[0mA\u001b[0m\u001b[0;34m,\u001b[0m \u001b[0mb\u001b[0m\u001b[0;34m,\u001b[0m \u001b[0mctx\u001b[0m\u001b[0;34m.\u001b[0m\u001b[0mQ_LU\u001b[0m\u001b[0;34m,\u001b[0m \u001b[0mctx\u001b[0m\u001b[0;34m.\u001b[0m\u001b[0mS_LU\u001b[0m\u001b[0;34m,\u001b[0m \u001b[0mctx\u001b[0m\u001b[0;34m.\u001b[0m\u001b[0mR\u001b[0m\u001b[0;34m,\u001b[0m\u001b[0;34m\u001b[0m\u001b[0;34m\u001b[0m\u001b[0m\n\u001b[0;32m---> 96\u001b[0;31m                     eps, verbose, notImprovedLim, maxIter)\n\u001b[0m\u001b[1;32m     97\u001b[0m             \u001b[0;32melif\u001b[0m \u001b[0msolver\u001b[0m \u001b[0;34m==\u001b[0m \u001b[0mQPSolvers\u001b[0m\u001b[0;34m.\u001b[0m\u001b[0mCVXPY\u001b[0m\u001b[0;34m:\u001b[0m\u001b[0;34m\u001b[0m\u001b[0;34m\u001b[0m\u001b[0m\n\u001b[1;32m     98\u001b[0m                 \u001b[0mvals\u001b[0m \u001b[0;34m=\u001b[0m \u001b[0mtorch\u001b[0m\u001b[0;34m.\u001b[0m\u001b[0mTensor\u001b[0m\u001b[0;34m(\u001b[0m\u001b[0mnBatch\u001b[0m\u001b[0;34m)\u001b[0m\u001b[0;34m.\u001b[0m\u001b[0mtype_as\u001b[0m\u001b[0;34m(\u001b[0m\u001b[0mQ\u001b[0m\u001b[0;34m)\u001b[0m\u001b[0;34m\u001b[0m\u001b[0;34m\u001b[0m\u001b[0m\n",
      "\u001b[0;32m~/anaconda3/lib/python3.7/site-packages/qpth/solvers/pdipm/batch.py\u001b[0m in \u001b[0;36mforward\u001b[0;34m(Q, p, G, h, A, b, Q_LU, S_LU, R, eps, verbose, notImprovedLim, maxIter, solver)\u001b[0m\n\u001b[1;32m    157\u001b[0m \u001b[0;34m\u001b[0m\u001b[0m\n\u001b[1;32m    158\u001b[0m         \u001b[0;31m# compute centering directions\u001b[0m\u001b[0;34m\u001b[0m\u001b[0;34m\u001b[0m\u001b[0;34m\u001b[0m\u001b[0m\n\u001b[0;32m--> 159\u001b[0;31m         alpha = torch.min(torch.min(get_step(z, dz_aff),\n\u001b[0m\u001b[1;32m    160\u001b[0m                                     get_step(s, ds_aff)),\n\u001b[1;32m    161\u001b[0m                           torch.ones(nBatch).type_as(Q))\n",
      "\u001b[0;32m~/anaconda3/lib/python3.7/site-packages/qpth/solvers/pdipm/batch.py\u001b[0m in \u001b[0;36mget_step\u001b[0;34m(v, dv)\u001b[0m\n\u001b[1;32m    209\u001b[0m \u001b[0;32mdef\u001b[0m \u001b[0mget_step\u001b[0m\u001b[0;34m(\u001b[0m\u001b[0mv\u001b[0m\u001b[0;34m,\u001b[0m \u001b[0mdv\u001b[0m\u001b[0;34m)\u001b[0m\u001b[0;34m:\u001b[0m\u001b[0;34m\u001b[0m\u001b[0;34m\u001b[0m\u001b[0m\n\u001b[1;32m    210\u001b[0m     \u001b[0ma\u001b[0m \u001b[0;34m=\u001b[0m \u001b[0;34m-\u001b[0m\u001b[0mv\u001b[0m \u001b[0;34m/\u001b[0m \u001b[0mdv\u001b[0m\u001b[0;34m\u001b[0m\u001b[0;34m\u001b[0m\u001b[0m\n\u001b[0;32m--> 211\u001b[0;31m     \u001b[0ma\u001b[0m\u001b[0;34m[\u001b[0m\u001b[0mdv\u001b[0m \u001b[0;34m>\u001b[0m \u001b[0;36m0\u001b[0m\u001b[0;34m]\u001b[0m \u001b[0;34m=\u001b[0m \u001b[0mmax\u001b[0m\u001b[0;34m(\u001b[0m\u001b[0;36m1.0\u001b[0m\u001b[0;34m,\u001b[0m \u001b[0ma\u001b[0m\u001b[0;34m.\u001b[0m\u001b[0mmax\u001b[0m\u001b[0;34m(\u001b[0m\u001b[0;34m)\u001b[0m\u001b[0;34m)\u001b[0m\u001b[0;34m\u001b[0m\u001b[0;34m\u001b[0m\u001b[0m\n\u001b[0m\u001b[1;32m    212\u001b[0m     \u001b[0;32mreturn\u001b[0m \u001b[0ma\u001b[0m\u001b[0;34m.\u001b[0m\u001b[0mmin\u001b[0m\u001b[0;34m(\u001b[0m\u001b[0;36m1\u001b[0m\u001b[0;34m)\u001b[0m\u001b[0;34m[\u001b[0m\u001b[0;36m0\u001b[0m\u001b[0;34m]\u001b[0m\u001b[0;34m.\u001b[0m\u001b[0msqueeze\u001b[0m\u001b[0;34m(\u001b[0m\u001b[0;34m)\u001b[0m\u001b[0;34m\u001b[0m\u001b[0;34m\u001b[0m\u001b[0m\n\u001b[1;32m    213\u001b[0m \u001b[0;34m\u001b[0m\u001b[0m\n",
      "\u001b[0;31mKeyboardInterrupt\u001b[0m: "
     ]
    }
   ],
   "source": [
    "for epoch in range(1):\n",
    "    run_loss = 0.0\n",
    "    for t, (inp, out) in enumerate(train_loader):\n",
    "        # Forward pass: compute predicted y by passing x to the model.\n",
    "        out_pred = model(inp)\n",
    "\n",
    "        # Compute and print loss.\n",
    "        loss = loss_fun(out_pred, out)\n",
    "        run_loss = run_loss + loss.data\n",
    "        if (t+1) % 100 == 0:\n",
    "            print('[%d, %5d] loss: %.3f' %\n",
    "                  (epoch + 1, t + 1, run_loss / 100))\n",
    "            run_loss = 0.0\n",
    "            losses.append(loss.data)\n",
    "            \n",
    "        # Before the backward pass, use the optimizer object to zero all of the\n",
    "        # gradients for the variables it will update (which are the learnable weights\n",
    "        # of the model)\n",
    "        optimizer.zero_grad()\n",
    "\n",
    "        # Backward pass: compute gradient of the loss with respect to model\n",
    "        # parameters\n",
    "        loss.backward()\n",
    "\n",
    "        # Calling the step function on an Optimizer makes an update to its\n",
    "        # parameters\n",
    "        optimizer.step()"
   ]
  },
  {
   "cell_type": "code",
   "execution_count": null,
   "metadata": {},
   "outputs": [],
   "source": []
  },
  {
   "cell_type": "code",
   "execution_count": 50,
   "metadata": {},
   "outputs": [
    {
     "data": {
      "text/plain": [
       "0"
      ]
     },
     "execution_count": 50,
     "metadata": {},
     "output_type": "execute_result"
    }
   ],
   "source": [
    "range(0,10)[0]"
   ]
  },
  {
   "cell_type": "code",
   "execution_count": null,
   "metadata": {},
   "outputs": [],
   "source": []
  },
  {
   "cell_type": "code",
   "execution_count": 57,
   "metadata": {},
   "outputs": [
    {
     "data": {
      "text/plain": [
       "(0.0, 0.649606310389936)"
      ]
     },
     "execution_count": 57,
     "metadata": {},
     "output_type": "execute_result"
    },
    {
     "data": {
      "image/png": "[encoded data removed]",
      "text/plain": [
       "<Figure size 432x288 with 1 Axes>"
      ]
     },
     "metadata": {
      "needs_background": "light"
     },
     "output_type": "display_data"
    }
   ],
   "source": [
    "plt.plot(losses)\n",
    "plt.ylabel('Cross Entropy Loss')\n",
    "plt.xlabel('Iteration')\n",
    "plt.ylim(ymin=0.)"
   ]
  },
  {
   "cell_type": "code",
   "execution_count": 5,
   "metadata": {},
   "outputs": [
    {
     "data": {
      "text/plain": [
       "(0.0, 0.70174154117703436)"
      ]
     },
     "execution_count": 5,
     "metadata": {},
     "output_type": "execute_result"
    },
    {
     "data": {
      "image/png": "[encoded data removed]",
      "text/plain": [
       "<matplotlib.figure.Figure at 0x7f7a886902e8>"
      ]
     },
     "metadata": {},
     "output_type": "display_data"
    }
   ],
   "source": [
    "plt.plot(losses)\n",
    "plt.ylabel('Cross Entropy Loss')\n",
    "plt.xlabel('Iteration')\n",
    "plt.ylim(ymin=0.)"
   ]
  },
  {
   "cell_type": "code",
   "execution_count": 10,
   "metadata": {},
   "outputs": [
    {
     "data": {
      "text/plain": [
       "tensor(1.1610, device='cuda:0')"
      ]
     },
     "execution_count": 10,
     "metadata": {},
     "output_type": "execute_result"
    }
   ],
   "source": [
    "loss.data\n"
   ]
  },
  {
   "cell_type": "code",
   "execution_count": null,
   "metadata": {},
   "outputs": [],
   "source": [
    "# Create random data\n",
    "nBatch, nFeatures, nHidden, nz = 16, 20, 20, 2\n",
    "x = Variable(torch.randn(nBatch, nFeatures), requires_grad=False)\n",
    "y = Variable((torch.rand(nBatch) < 0.5).long(), requires_grad=False)\n",
    "if torch.cuda.is_available():\n",
    "    x = x.cuda()\n",
    "    y = y.cuda()\n",
    "y.dtype"
   ]
  },
  {
   "cell_type": "code",
   "execution_count": null,
   "metadata": {},
   "outputs": [],
   "source": [
    "# Create random data\n",
    "num_dataset, input_dim, output_dim, nz = 16, 5, 3, 2\n",
    "x = Variable(torch.randn(num_dataset, input_dim), requires_grad=False)\n",
    "y = Variable((torch.rand(num_dataset, output_dim)), requires_grad=False)\n",
    "if torch.cuda.is_available():\n",
    "    x = x.cuda()\n",
    "    y = y.cuda()\n",
    "trainset = torch.utils.data.TensorDataset(x, y)\n",
    "trainloader = torch.utils.data.DataLoader(trainset, batch_size=4,\n",
    "                                          shuffle=True)\n",
    "for step,(x_step, y_step) in enumerate(trainloader):\n",
    "    print(y_step)\n",
    "    break"
   ]
  },
  {
   "cell_type": "code",
   "execution_count": null,
   "metadata": {},
   "outputs": [],
   "source": [
    "class OptNet(nn.Module):\n",
    "    \"\"\"Builds the strucre of the QPNet.\n",
    "    \n",
    "    The struture is FC-ReLU-(BN)-FC-ReLU-(BN)-QP-u[0].\n",
    "    QP means the optimization problem layer over`nz` variables, \n",
    "    having `nineq` inequality constraints and `neq` equality \n",
    "    constraints.\n",
    "    The optimization problem is of the form\n",
    "        \\hat z =   argmin_z 1/2*z^T*Q*z + p^T*z\n",
    "                subject to G*z <= h\n",
    "                           A*z = b\n",
    "    where Q \\in S^{nz,nz},\n",
    "        S^{nz,nz} is the set of all positive semi-definite matrices,\n",
    "        p \\in R^{nz}\n",
    "        G \\in R^{nineq,nz}\n",
    "        h \\in R^{nineq}\n",
    "        A \\in R^{neq,nz}\n",
    "        b \\in R^{neq}\n",
    "        This layer has Q = L*L^T+ϵ*I where L is a lower-triangular matrix,\n",
    "        and h = G*z0 + s0, b = A*z0 for some learnable z0 and s0,  \n",
    "        to ensure the problem is always feasible.\n",
    "    \"\"\"\n",
    "    \n",
    "    def __init__(self, dim_inp, dim_out, num_hid, bn, nz=5, nineq=20, neq=10, eps=1e-4):\n",
    "        \"\"\"Inits OptNet.\"\"\"\n",
    "        super().__init__()\n",
    "        self.dim_inp = dim_inp\n",
    "        self.dim_out = dim_out\n",
    "        self.num_hid = num_hid\n",
    "        self.bn = bn\n",
    "        self.nz = nz\n",
    "        self.nineq = nineq\n",
    "        self.neq = neq\n",
    "        self.eps = eps\n",
    "\n",
    "        # Normal BN/FC layers.\n",
    "        if bn:\n",
    "            self.bn1 = nn.BatchNorm1d(num_hid)\n",
    "            self.bn2 = nn.BatchNorm1d(nz)\n",
    "\n",
    "        self.fc1 = nn.Linear(dim_inp, num_hid)\n",
    "        self.fc2 = nn.Linear(num_hid, nz)\n",
    "        self.fc3 = nn.Linear(nz, dim_out)\n",
    "\n",
    "        # QP params.\n",
    "        self.M = Variable(torch.tril(torch.ones(nz, nz)))\n",
    "        self.L = Parameter(torch.tril(torch.rand(nz, nz)))\n",
    "        self.I = Variable(torch.eye(self.nz))\n",
    "        self.G = Parameter(torch.Tensor(nineq,nz).uniform_(-1,1))\n",
    "        self.A = Parameter(torch.Tensor(neq,nz).uniform_(-1,1))\n",
    "        self.z0 = Parameter(torch.zeros(nz))\n",
    "        self.s0 = Parameter(torch.ones(nineq))\n",
    "        \n",
    "        weight = torch.zeros(nz)\n",
    "        weight[0] = 1.0\n",
    "        self.weight = Variable(weight)\n",
    "        \n",
    "        if torch.cuda.is_available():  # if able to use GPU\n",
    "            self.M = self.M.cuda()\n",
    "            self.L = Parameter(torch.tril(torch.rand(nz, nz)).cuda())\n",
    "            self.I = Variable(torch.eye(self.nz).cuda())\n",
    "            self.G = Parameter(torch.Tensor(nineq,nz).uniform_(-1,1).cuda())\n",
    "            self.A = Parameter(torch.Tensor(neq,nz).uniform_(-1,1).cuda())\n",
    "            self.z0 = Parameter(torch.zeros(nz).cuda())\n",
    "            self.s0 = Parameter(torch.ones(nineq).cuda())\n",
    "            self.weight = self.weight.cuda()\n",
    "            \n",
    "\n",
    "    def forward(self, x):\n",
    "        \"\"\"Builds the forward strucre of the QPNet.\n",
    "        Sequence: FC-ReLU-(BN)-FC-ReLU-(BN)-QP-u[0].\n",
    "        \"\"\"\n",
    "        nBatch = x.size(0)\n",
    "        \n",
    "        # Normal FC network.\n",
    "        x = x.view(nBatch, -1)\n",
    "        x = F.leaky_relu(self.fc1(x), 0.2)\n",
    "        if self.bn:  # if applies a batch normalization \n",
    "            x = self.bn1(x)\n",
    "        x = F.leaky_relu(self.fc2(x), 0.2)\n",
    "        if self.bn:\n",
    "            x = self.bn2(x)\n",
    "\n",
    "        # Set up the qp parameters Q=L*L^T+ϵ*I, h = G*z_0+s_0, b = A*z0.\n",
    "        L = self.M*self.L\n",
    "        Q = L.mm(L.t()) + self.eps*self.I\n",
    "        h = self.G.mv(self.z0)+self.s0\n",
    "        b = self.A.mv(self.z0)\n",
    "        x = QPFunction(verbose=-1)(Q, x, self.G, h, self.A, b)\n",
    "        # shows solver warning if verbose >= 0\n",
    "\n",
    "        return (x.mv(self.weight))  # only return the fisrt action"
   ]
  }
 ],
 "metadata": {
  "kernelspec": {
   "display_name": "Python 3",
   "language": "python",
   "name": "python3"
  },
  "language_info": {
   "codemirror_mode": {
    "name": "ipython",
    "version": 3
   },
   "file_extension": ".py",
   "mimetype": "text/x-python",
   "name": "python",
   "nbconvert_exporter": "python",
   "pygments_lexer": "ipython3",
   "version": "3.7.2"
  }
 },
 "nbformat": 4,
 "nbformat_minor": 2
}
